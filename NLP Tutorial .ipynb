{
 "cells": [
  {
   "cell_type": "code",
   "execution_count": 1,
   "id": "0d5a18b6",
   "metadata": {},
   "outputs": [],
   "source": [
    "import os\n",
    "import nltk\n",
    "import nltk.corpus"
   ]
  },
  {
   "cell_type": "code",
   "execution_count": 2,
   "id": "5b098a81",
   "metadata": {},
   "outputs": [
    {
     "name": "stdout",
     "output_type": "stream",
     "text": [
      "['abc', 'abc.zip', 'alpino', 'alpino.zip', 'bcp47.zip', 'biocreative_ppi', 'biocreative_ppi.zip', 'brown', 'brown.zip', 'brown_tei', 'brown_tei.zip', 'cess_cat', 'cess_cat.zip', 'cess_esp', 'cess_esp.zip', 'chat80', 'chat80.zip', 'city_database', 'city_database.zip', 'cmudict', 'cmudict.zip', 'comparative_sentences', 'comparative_sentences.zip', 'comtrans.zip']\n"
     ]
    }
   ],
   "source": [
    "print(os.listdir(nltk.data.find(\"corpora\")))\n"
   ]
  },
  {
   "cell_type": "code",
   "execution_count": 3,
   "id": "1f3de6b0",
   "metadata": {},
   "outputs": [
    {
     "data": {
      "text/plain": [
       "['The', 'Fulton', 'County', 'Grand', 'Jury', 'said', ...]"
      ]
     },
     "execution_count": 3,
     "metadata": {},
     "output_type": "execute_result"
    }
   ],
   "source": [
    "from nltk.corpus import brown\n",
    "brown.words()"
   ]
  },
  {
   "cell_type": "code",
   "execution_count": 4,
   "id": "d4618b9b",
   "metadata": {},
   "outputs": [
    {
     "data": {
      "text/plain": [
       "['PM', 'denies', 'knowledge', 'of', 'AWB', 'kickbacks', ...]"
      ]
     },
     "execution_count": 4,
     "metadata": {},
     "output_type": "execute_result"
    }
   ],
   "source": [
    "from nltk.corpus import abc\n",
    "abc.words()"
   ]
  },
  {
   "cell_type": "code",
   "execution_count": 5,
   "id": "e34ef09b",
   "metadata": {},
   "outputs": [
    {
     "data": {
      "text/plain": [
       "['rural.txt', 'science.txt']"
      ]
     },
     "execution_count": 5,
     "metadata": {},
     "output_type": "execute_result"
    }
   ],
   "source": [
    "nltk.corpus.abc.fileids()\n"
   ]
  },
  {
   "cell_type": "code",
   "execution_count": 6,
   "id": "5ace1854",
   "metadata": {},
   "outputs": [
    {
     "data": {
      "text/plain": [
       "['PM', 'denies', 'knowledge', 'of', 'AWB', 'kickbacks', ...]"
      ]
     },
     "execution_count": 6,
     "metadata": {},
     "output_type": "execute_result"
    }
   ],
   "source": [
    "ru=nltk.corpus.abc.words('rural.txt')\n",
    "ru"
   ]
  },
  {
   "cell_type": "code",
   "execution_count": 7,
   "id": "d7a4af56",
   "metadata": {},
   "outputs": [
    {
     "name": "stdout",
     "output_type": "stream",
     "text": [
      "PM  denies  knowledge  of  AWB  kickbacks  The  Prime  Minister  has  denied  he  knew  AWB  was  paying  kickbacks  to  Iraq  despite  writing  to  the  wheat  exporter  asking  to  be  kept  fully  informed  on  Iraq  wheat  sales  .  Letters  from  John  Howard  and  Deputy  Prime  Minister  Mark  Vaile  to  AWB  have  been  released  by  the  Cole  inquiry  into  the  oil  for  food  program  .  In  one  of  the  letters  Mr  Howard  asks  AWB  managing  director  Andrew  Lindberg  to  remain  in  close  contact  with  the  Government  on  Iraq  wheat  sales  .  The  Opposition  '  s  Gavan  O  '  Connor  says  the  letter  was  sent  in  2002  ,  the  same  time  AWB  was  paying  kickbacks  to  Iraq  though  a  Jordanian  trucking  company  .  He  says  the  Government  can  longer  wipe  its  hands  of  the  illicit  payments  ,  which  totalled  $  290  million  .  \"  The  responsibility  for  this  must  lay  may  squarely  at  the  feet  of  Coalition  ministers  in  trade  ,  agriculture  and  the  Prime  Minister  ,\"  he  said  .  But  the  Prime  Minister  says  letters  show  he  was  inquiring  about  the  future  of  wheat  sales  in  Iraq  and  do  not  prove  the  Government  knew  of  the  payments  .  \"  It  would  have  been  astonishing  in  2002  if  as  Prime  Minister  I  hadn  '  t  done  anything  I  possibly  could  to  preserve  Australia  '  s  very  valuable  wheat  market  ,\"  he  said  .  Email  questions  Today  at  the  inquiry  ,  AWB  trading  manager  Peter  Geary  has  been  questioned  about  an  email  he  received  in  May  2000  .  It  indicated  that  the  Iraqi  Grains  Board  had  approached  AWB  to  provide  \"  after  -  sales  service  \".  Mr  Geary  said  he  had  forwarded  the  email  to  two  AWB  colleagues  and  did  not  remember  reading  it  ,  although  he  said  he  may  have  skimmed  it  .  Support  AWB  still  has  plenty  of  support  among  grain  growers  in  central  western  New  South  Wales  despite  the  revelations  of  the  Cole  inquiry  .  Producers  say  they  broadly  support  AWB  '  s  attempts  to  get  the  best  prices  for  their  products  .  \"  I  think  it  '  s  all  a  ploy  by  overseas  interests  to  try  and  get  the  single  desk  put  aside  .  The  stories  that  are  going  round  about  the  commission  and  everything  ,  I  think  that  '  s  the  way  people  have  got  to  do  things  to  do  business  with  the  Middle  East  and  Asian  countries  ,\"  one  producer  said  .  \"  I  think  it  '  s  actually  a  pretty  reasonable  system  and  I  think  actually  I  '  d  give  them  pretty  fair  support  at  the  moment  .  I  think  on  average  they  '  ve  performed  fairly  well  ,\"  another  producer  said  .  \"  The  biggest  thing  about  someone  else  taking  over  is  whether  the  multinationals  will  get  too  much  of  a  foothold  in  there  and  take  it  too  much  to  their  advantage  .\"  Grain  prices  But  an  analyst  predicts  grain  prices  will  drop  another  $  20  a  tonne  on  the  back  of  the  inquiry  into  AWB  .  "
     ]
    }
   ],
   "source": [
    "for word in ru[:500]:\n",
    "    print (word ,sep=' ', end ='  ')"
   ]
  },
  {
   "cell_type": "code",
   "execution_count": 8,
   "id": "b857c132",
   "metadata": {},
   "outputs": [
    {
     "name": "stdout",
     "output_type": "stream",
     "text": [
      "\n",
      "Artificial Intelligence (AI) has emerged as a transformative force, reshaping the landscape of various industries and influencing the way we live, work, and interact with technology. AI refers to the development of computer systems capable of performing tasks that typically require human intelligence, such as learning, reasoning, problem-solving, perception, and language understanding. As AI continues to advance, its impact on society becomes increasingly profound.\n",
      "\n",
      "One of the key areas where AI has made significant strides is in automation. Intelligent machines and algorithms are increasingly taking over routine and repetitive tasks, allowing humans to focus on more complex and creative endeavors. This shift has the potential to boost efficiency and productivity across industries, from manufacturing and healthcare to finance and customer service.\n",
      "\n",
      "Machine learning, a subset of AI, plays a pivotal role in enabling systems to learn and improve from experience without being explicitly programmed. This capability is evident in applications like recommendation systems, natural language processing, and image recognition. The ability of AI to analyze vast amounts of data and identify patterns leads to more informed decision-making processes.\n",
      "\n",
      "In healthcare, AI is revolutionizing diagnostics and treatment plans. Algorithms can analyze medical images, detect anomalies, and predict diseases with a level of accuracy that was previously unimaginable. This not only enhances the speed of diagnosis but also opens avenues for personalized and targeted therapies.\n",
      "\n",
      "Ethical considerations surrounding AI are garnering increased attention. Questions about bias in algorithms, data privacy, and the potential impact on employment are subjects of ongoing debate. Striking a balance between technological advancement and ethical responsibility is crucial to ensuring that AI benefits humanity as a whole.\n",
      "\n",
      "The development of AI also brings challenges related to transparency and explainability. As AI systems become more complex, understanding their decision-making processes becomes increasingly difficult. Efforts to create transparent and interpretable AI systems are essential to building trust and addressing concerns about accountability.\n",
      "\n",
      "Looking ahead, the evolution of AI is expected to continue at a rapid pace. Innovations in areas like reinforcement learning, quantum computing, and explainable AI promise to push the boundaries of what AI systems can achieve. While the potential benefits are vast, it is essential for society to navigate the ethical, social, and economic implications of AI to harness its power responsibly and inclusively.\n",
      "\n"
     ]
    }
   ],
   "source": [
    "# Define the provided string in a Jupyter Notebook cell\n",
    "ai_description = \"\"\"\n",
    "Artificial Intelligence (AI) has emerged as a transformative force, reshaping the landscape of various industries and influencing the way we live, work, and interact with technology. AI refers to the development of computer systems capable of performing tasks that typically require human intelligence, such as learning, reasoning, problem-solving, perception, and language understanding. As AI continues to advance, its impact on society becomes increasingly profound.\n",
    "\n",
    "One of the key areas where AI has made significant strides is in automation. Intelligent machines and algorithms are increasingly taking over routine and repetitive tasks, allowing humans to focus on more complex and creative endeavors. This shift has the potential to boost efficiency and productivity across industries, from manufacturing and healthcare to finance and customer service.\n",
    "\n",
    "Machine learning, a subset of AI, plays a pivotal role in enabling systems to learn and improve from experience without being explicitly programmed. This capability is evident in applications like recommendation systems, natural language processing, and image recognition. The ability of AI to analyze vast amounts of data and identify patterns leads to more informed decision-making processes.\n",
    "\n",
    "In healthcare, AI is revolutionizing diagnostics and treatment plans. Algorithms can analyze medical images, detect anomalies, and predict diseases with a level of accuracy that was previously unimaginable. This not only enhances the speed of diagnosis but also opens avenues for personalized and targeted therapies.\n",
    "\n",
    "Ethical considerations surrounding AI are garnering increased attention. Questions about bias in algorithms, data privacy, and the potential impact on employment are subjects of ongoing debate. Striking a balance between technological advancement and ethical responsibility is crucial to ensuring that AI benefits humanity as a whole.\n",
    "\n",
    "The development of AI also brings challenges related to transparency and explainability. As AI systems become more complex, understanding their decision-making processes becomes increasingly difficult. Efforts to create transparent and interpretable AI systems are essential to building trust and addressing concerns about accountability.\n",
    "\n",
    "Looking ahead, the evolution of AI is expected to continue at a rapid pace. Innovations in areas like reinforcement learning, quantum computing, and explainable AI promise to push the boundaries of what AI systems can achieve. While the potential benefits are vast, it is essential for society to navigate the ethical, social, and economic implications of AI to harness its power responsibly and inclusively.\n",
    "\"\"\"\n",
    "\n",
    "# Print the string\n",
    "print(ai_description)\n"
   ]
  },
  {
   "cell_type": "code",
   "execution_count": 9,
   "id": "81cdde16",
   "metadata": {},
   "outputs": [
    {
     "data": {
      "text/plain": [
       "str"
      ]
     },
     "execution_count": 9,
     "metadata": {},
     "output_type": "execute_result"
    }
   ],
   "source": [
    "type(ai_description)"
   ]
  },
  {
   "cell_type": "code",
   "execution_count": 10,
   "id": "a2a13b0d",
   "metadata": {},
   "outputs": [],
   "source": [
    "from nltk.tokenize import word_tokenize"
   ]
  },
  {
   "cell_type": "code",
   "execution_count": 11,
   "id": "d1573568",
   "metadata": {},
   "outputs": [],
   "source": [
    "tt= word_tokenize(ai_description)\n"
   ]
  },
  {
   "cell_type": "code",
   "execution_count": 12,
   "id": "120f8db3",
   "metadata": {},
   "outputs": [
    {
     "name": "stderr",
     "output_type": "stream",
     "text": [
      "[nltk_data] Downloading package punkt to C:\\Users\\ctewa/nltk_data...\n",
      "[nltk_data]   Package punkt is already up-to-date!\n"
     ]
    },
    {
     "data": {
      "text/plain": [
       "True"
      ]
     },
     "execution_count": 12,
     "metadata": {},
     "output_type": "execute_result"
    }
   ],
   "source": [
    "import nltk\n",
    "nltk.download('punkt')"
   ]
  },
  {
   "cell_type": "code",
   "execution_count": 13,
   "id": "f4ba2358",
   "metadata": {},
   "outputs": [],
   "source": [
    "from nltk.tokenize import word_tokenize"
   ]
  },
  {
   "cell_type": "code",
   "execution_count": 14,
   "id": "5c5029dd",
   "metadata": {},
   "outputs": [
    {
     "data": {
      "text/plain": [
       "['Artificial',\n",
       " 'Intelligence',\n",
       " '(',\n",
       " 'AI',\n",
       " ')',\n",
       " 'has',\n",
       " 'emerged',\n",
       " 'as',\n",
       " 'a',\n",
       " 'transformative',\n",
       " 'force',\n",
       " ',',\n",
       " 'reshaping',\n",
       " 'the',\n",
       " 'landscape',\n",
       " 'of',\n",
       " 'various',\n",
       " 'industries',\n",
       " 'and',\n",
       " 'influencing',\n",
       " 'the',\n",
       " 'way',\n",
       " 'we',\n",
       " 'live',\n",
       " ',',\n",
       " 'work',\n",
       " ',',\n",
       " 'and',\n",
       " 'interact',\n",
       " 'with',\n",
       " 'technology',\n",
       " '.',\n",
       " 'AI',\n",
       " 'refers',\n",
       " 'to',\n",
       " 'the',\n",
       " 'development',\n",
       " 'of',\n",
       " 'computer',\n",
       " 'systems',\n",
       " 'capable',\n",
       " 'of',\n",
       " 'performing',\n",
       " 'tasks',\n",
       " 'that',\n",
       " 'typically',\n",
       " 'require',\n",
       " 'human',\n",
       " 'intelligence',\n",
       " ',',\n",
       " 'such',\n",
       " 'as',\n",
       " 'learning',\n",
       " ',',\n",
       " 'reasoning',\n",
       " ',',\n",
       " 'problem-solving',\n",
       " ',',\n",
       " 'perception',\n",
       " ',',\n",
       " 'and',\n",
       " 'language',\n",
       " 'understanding',\n",
       " '.',\n",
       " 'As',\n",
       " 'AI',\n",
       " 'continues',\n",
       " 'to',\n",
       " 'advance',\n",
       " ',',\n",
       " 'its',\n",
       " 'impact',\n",
       " 'on',\n",
       " 'society',\n",
       " 'becomes',\n",
       " 'increasingly',\n",
       " 'profound',\n",
       " '.',\n",
       " 'One',\n",
       " 'of',\n",
       " 'the',\n",
       " 'key',\n",
       " 'areas',\n",
       " 'where',\n",
       " 'AI',\n",
       " 'has',\n",
       " 'made',\n",
       " 'significant',\n",
       " 'strides',\n",
       " 'is',\n",
       " 'in',\n",
       " 'automation',\n",
       " '.',\n",
       " 'Intelligent',\n",
       " 'machines',\n",
       " 'and',\n",
       " 'algorithms',\n",
       " 'are',\n",
       " 'increasingly',\n",
       " 'taking',\n",
       " 'over',\n",
       " 'routine',\n",
       " 'and',\n",
       " 'repetitive',\n",
       " 'tasks',\n",
       " ',',\n",
       " 'allowing',\n",
       " 'humans',\n",
       " 'to',\n",
       " 'focus',\n",
       " 'on',\n",
       " 'more',\n",
       " 'complex',\n",
       " 'and',\n",
       " 'creative',\n",
       " 'endeavors',\n",
       " '.',\n",
       " 'This',\n",
       " 'shift',\n",
       " 'has',\n",
       " 'the',\n",
       " 'potential',\n",
       " 'to',\n",
       " 'boost',\n",
       " 'efficiency',\n",
       " 'and',\n",
       " 'productivity',\n",
       " 'across',\n",
       " 'industries',\n",
       " ',',\n",
       " 'from',\n",
       " 'manufacturing',\n",
       " 'and',\n",
       " 'healthcare',\n",
       " 'to',\n",
       " 'finance',\n",
       " 'and',\n",
       " 'customer',\n",
       " 'service',\n",
       " '.',\n",
       " 'Machine',\n",
       " 'learning',\n",
       " ',',\n",
       " 'a',\n",
       " 'subset',\n",
       " 'of',\n",
       " 'AI',\n",
       " ',',\n",
       " 'plays',\n",
       " 'a',\n",
       " 'pivotal',\n",
       " 'role',\n",
       " 'in',\n",
       " 'enabling',\n",
       " 'systems',\n",
       " 'to',\n",
       " 'learn',\n",
       " 'and',\n",
       " 'improve',\n",
       " 'from',\n",
       " 'experience',\n",
       " 'without',\n",
       " 'being',\n",
       " 'explicitly',\n",
       " 'programmed',\n",
       " '.',\n",
       " 'This',\n",
       " 'capability',\n",
       " 'is',\n",
       " 'evident',\n",
       " 'in',\n",
       " 'applications',\n",
       " 'like',\n",
       " 'recommendation',\n",
       " 'systems',\n",
       " ',',\n",
       " 'natural',\n",
       " 'language',\n",
       " 'processing',\n",
       " ',',\n",
       " 'and',\n",
       " 'image',\n",
       " 'recognition',\n",
       " '.',\n",
       " 'The',\n",
       " 'ability',\n",
       " 'of',\n",
       " 'AI',\n",
       " 'to',\n",
       " 'analyze',\n",
       " 'vast',\n",
       " 'amounts',\n",
       " 'of',\n",
       " 'data',\n",
       " 'and',\n",
       " 'identify',\n",
       " 'patterns',\n",
       " 'leads',\n",
       " 'to',\n",
       " 'more',\n",
       " 'informed',\n",
       " 'decision-making',\n",
       " 'processes',\n",
       " '.',\n",
       " 'In',\n",
       " 'healthcare',\n",
       " ',',\n",
       " 'AI',\n",
       " 'is',\n",
       " 'revolutionizing',\n",
       " 'diagnostics',\n",
       " 'and',\n",
       " 'treatment',\n",
       " 'plans',\n",
       " '.',\n",
       " 'Algorithms',\n",
       " 'can',\n",
       " 'analyze',\n",
       " 'medical',\n",
       " 'images',\n",
       " ',',\n",
       " 'detect',\n",
       " 'anomalies',\n",
       " ',',\n",
       " 'and',\n",
       " 'predict',\n",
       " 'diseases',\n",
       " 'with',\n",
       " 'a',\n",
       " 'level',\n",
       " 'of',\n",
       " 'accuracy',\n",
       " 'that',\n",
       " 'was',\n",
       " 'previously',\n",
       " 'unimaginable',\n",
       " '.',\n",
       " 'This',\n",
       " 'not',\n",
       " 'only',\n",
       " 'enhances',\n",
       " 'the',\n",
       " 'speed',\n",
       " 'of',\n",
       " 'diagnosis',\n",
       " 'but',\n",
       " 'also',\n",
       " 'opens',\n",
       " 'avenues',\n",
       " 'for',\n",
       " 'personalized',\n",
       " 'and',\n",
       " 'targeted',\n",
       " 'therapies',\n",
       " '.',\n",
       " 'Ethical',\n",
       " 'considerations',\n",
       " 'surrounding',\n",
       " 'AI',\n",
       " 'are',\n",
       " 'garnering',\n",
       " 'increased',\n",
       " 'attention',\n",
       " '.',\n",
       " 'Questions',\n",
       " 'about',\n",
       " 'bias',\n",
       " 'in',\n",
       " 'algorithms',\n",
       " ',',\n",
       " 'data',\n",
       " 'privacy',\n",
       " ',',\n",
       " 'and',\n",
       " 'the',\n",
       " 'potential',\n",
       " 'impact',\n",
       " 'on',\n",
       " 'employment',\n",
       " 'are',\n",
       " 'subjects',\n",
       " 'of',\n",
       " 'ongoing',\n",
       " 'debate',\n",
       " '.',\n",
       " 'Striking',\n",
       " 'a',\n",
       " 'balance',\n",
       " 'between',\n",
       " 'technological',\n",
       " 'advancement',\n",
       " 'and',\n",
       " 'ethical',\n",
       " 'responsibility',\n",
       " 'is',\n",
       " 'crucial',\n",
       " 'to',\n",
       " 'ensuring',\n",
       " 'that',\n",
       " 'AI',\n",
       " 'benefits',\n",
       " 'humanity',\n",
       " 'as',\n",
       " 'a',\n",
       " 'whole',\n",
       " '.',\n",
       " 'The',\n",
       " 'development',\n",
       " 'of',\n",
       " 'AI',\n",
       " 'also',\n",
       " 'brings',\n",
       " 'challenges',\n",
       " 'related',\n",
       " 'to',\n",
       " 'transparency',\n",
       " 'and',\n",
       " 'explainability',\n",
       " '.',\n",
       " 'As',\n",
       " 'AI',\n",
       " 'systems',\n",
       " 'become',\n",
       " 'more',\n",
       " 'complex',\n",
       " ',',\n",
       " 'understanding',\n",
       " 'their',\n",
       " 'decision-making',\n",
       " 'processes',\n",
       " 'becomes',\n",
       " 'increasingly',\n",
       " 'difficult',\n",
       " '.',\n",
       " 'Efforts',\n",
       " 'to',\n",
       " 'create',\n",
       " 'transparent',\n",
       " 'and',\n",
       " 'interpretable',\n",
       " 'AI',\n",
       " 'systems',\n",
       " 'are',\n",
       " 'essential',\n",
       " 'to',\n",
       " 'building',\n",
       " 'trust',\n",
       " 'and',\n",
       " 'addressing',\n",
       " 'concerns',\n",
       " 'about',\n",
       " 'accountability',\n",
       " '.',\n",
       " 'Looking',\n",
       " 'ahead',\n",
       " ',',\n",
       " 'the',\n",
       " 'evolution',\n",
       " 'of',\n",
       " 'AI',\n",
       " 'is',\n",
       " 'expected',\n",
       " 'to',\n",
       " 'continue',\n",
       " 'at',\n",
       " 'a',\n",
       " 'rapid',\n",
       " 'pace',\n",
       " '.',\n",
       " 'Innovations',\n",
       " 'in',\n",
       " 'areas',\n",
       " 'like',\n",
       " 'reinforcement',\n",
       " 'learning',\n",
       " ',',\n",
       " 'quantum',\n",
       " 'computing',\n",
       " ',',\n",
       " 'and',\n",
       " 'explainable',\n",
       " 'AI',\n",
       " 'promise',\n",
       " 'to',\n",
       " 'push',\n",
       " 'the',\n",
       " 'boundaries',\n",
       " 'of',\n",
       " 'what',\n",
       " 'AI',\n",
       " 'systems',\n",
       " 'can',\n",
       " 'achieve',\n",
       " '.',\n",
       " 'While',\n",
       " 'the',\n",
       " 'potential',\n",
       " 'benefits',\n",
       " 'are',\n",
       " 'vast',\n",
       " ',',\n",
       " 'it',\n",
       " 'is',\n",
       " 'essential',\n",
       " 'for',\n",
       " 'society',\n",
       " 'to',\n",
       " 'navigate',\n",
       " 'the',\n",
       " 'ethical',\n",
       " ',',\n",
       " 'social',\n",
       " ',',\n",
       " 'and',\n",
       " 'economic',\n",
       " 'implications',\n",
       " 'of',\n",
       " 'AI',\n",
       " 'to',\n",
       " 'harness',\n",
       " 'its',\n",
       " 'power',\n",
       " 'responsibly',\n",
       " 'and',\n",
       " 'inclusively',\n",
       " '.']"
      ]
     },
     "execution_count": 14,
     "metadata": {},
     "output_type": "execute_result"
    }
   ],
   "source": [
    "tt= word_tokenize(ai_description)\n",
    "tt"
   ]
  },
  {
   "cell_type": "code",
   "execution_count": 15,
   "id": "94400314",
   "metadata": {},
   "outputs": [
    {
     "data": {
      "text/plain": [
       "426"
      ]
     },
     "execution_count": 15,
     "metadata": {},
     "output_type": "execute_result"
    }
   ],
   "source": [
    "len(tt)"
   ]
  },
  {
   "cell_type": "code",
   "execution_count": 16,
   "id": "a31e73aa",
   "metadata": {},
   "outputs": [],
   "source": [
    "from nltk.probability import FreqDist\n",
    "fdist= FreqDist()"
   ]
  },
  {
   "cell_type": "code",
   "execution_count": 17,
   "id": "78419ecd",
   "metadata": {},
   "outputs": [
    {
     "data": {
      "text/plain": [
       "FreqDist({',': 27, 'and': 23, '.': 21, 'ai': 16, 'to': 16, 'of': 14, 'the': 13, 'a': 7, 'systems': 6, 'is': 6, ...})"
      ]
     },
     "execution_count": 17,
     "metadata": {},
     "output_type": "execute_result"
    }
   ],
   "source": [
    "for word in tt:\n",
    "    fdist[word.lower()]+=1\n",
    "fdist   "
   ]
  },
  {
   "cell_type": "code",
   "execution_count": 18,
   "id": "97406e5f",
   "metadata": {},
   "outputs": [
    {
     "data": {
      "text/plain": [
       "227"
      ]
     },
     "execution_count": 18,
     "metadata": {},
     "output_type": "execute_result"
    }
   ],
   "source": [
    "len(fdist)"
   ]
  },
  {
   "cell_type": "code",
   "execution_count": 19,
   "id": "37a91f87",
   "metadata": {},
   "outputs": [
    {
     "data": {
      "text/plain": [
       "16"
      ]
     },
     "execution_count": 19,
     "metadata": {},
     "output_type": "execute_result"
    }
   ],
   "source": [
    "fdist['ai']"
   ]
  },
  {
   "cell_type": "code",
   "execution_count": 20,
   "id": "a5ae4610",
   "metadata": {},
   "outputs": [
    {
     "data": {
      "text/plain": [
       "[(',', 27),\n",
       " ('and', 23),\n",
       " ('.', 21),\n",
       " ('ai', 16),\n",
       " ('to', 16),\n",
       " ('of', 14),\n",
       " ('the', 13),\n",
       " ('a', 7),\n",
       " ('systems', 6),\n",
       " ('is', 6)]"
      ]
     },
     "execution_count": 20,
     "metadata": {},
     "output_type": "execute_result"
    }
   ],
   "source": [
    "fdist_top= fdist.most_common(10)\n",
    "fdist_top"
   ]
  },
  {
   "cell_type": "code",
   "execution_count": 21,
   "id": "f3c03547",
   "metadata": {},
   "outputs": [],
   "source": [
    "from nltk.tokenize import blankline_tokenize\n"
   ]
  },
  {
   "cell_type": "code",
   "execution_count": 22,
   "id": "e1cc8914",
   "metadata": {},
   "outputs": [
    {
     "data": {
      "text/plain": [
       "['Artificial',\n",
       " 'Intelligence',\n",
       " '(',\n",
       " 'AI',\n",
       " ')',\n",
       " 'has',\n",
       " 'emerged',\n",
       " 'as',\n",
       " 'a',\n",
       " 'transformative',\n",
       " 'force',\n",
       " ',',\n",
       " 'reshaping',\n",
       " 'the',\n",
       " 'landscape',\n",
       " 'of',\n",
       " 'various',\n",
       " 'industries',\n",
       " 'and',\n",
       " 'influencing',\n",
       " 'the',\n",
       " 'way',\n",
       " 'we',\n",
       " 'live',\n",
       " ',',\n",
       " 'work',\n",
       " ',',\n",
       " 'and',\n",
       " 'interact',\n",
       " 'with',\n",
       " 'technology',\n",
       " '.',\n",
       " 'AI',\n",
       " 'refers',\n",
       " 'to',\n",
       " 'the',\n",
       " 'development',\n",
       " 'of',\n",
       " 'computer',\n",
       " 'systems',\n",
       " 'capable',\n",
       " 'of',\n",
       " 'performing',\n",
       " 'tasks',\n",
       " 'that',\n",
       " 'typically',\n",
       " 'require',\n",
       " 'human',\n",
       " 'intelligence',\n",
       " ',',\n",
       " 'such',\n",
       " 'as',\n",
       " 'learning',\n",
       " ',',\n",
       " 'reasoning',\n",
       " ',',\n",
       " 'problem-solving',\n",
       " ',',\n",
       " 'perception',\n",
       " ',',\n",
       " 'and',\n",
       " 'language',\n",
       " 'understanding',\n",
       " '.',\n",
       " 'As',\n",
       " 'AI',\n",
       " 'continues',\n",
       " 'to',\n",
       " 'advance',\n",
       " ',',\n",
       " 'its',\n",
       " 'impact',\n",
       " 'on',\n",
       " 'society',\n",
       " 'becomes',\n",
       " 'increasingly',\n",
       " 'profound',\n",
       " '.',\n",
       " 'One',\n",
       " 'of',\n",
       " 'the',\n",
       " 'key',\n",
       " 'areas',\n",
       " 'where',\n",
       " 'AI',\n",
       " 'has',\n",
       " 'made',\n",
       " 'significant',\n",
       " 'strides',\n",
       " 'is',\n",
       " 'in',\n",
       " 'automation',\n",
       " '.',\n",
       " 'Intelligent',\n",
       " 'machines',\n",
       " 'and',\n",
       " 'algorithms',\n",
       " 'are',\n",
       " 'increasingly',\n",
       " 'taking',\n",
       " 'over',\n",
       " 'routine',\n",
       " 'and',\n",
       " 'repetitive',\n",
       " 'tasks',\n",
       " ',',\n",
       " 'allowing',\n",
       " 'humans',\n",
       " 'to',\n",
       " 'focus',\n",
       " 'on',\n",
       " 'more',\n",
       " 'complex',\n",
       " 'and',\n",
       " 'creative',\n",
       " 'endeavors',\n",
       " '.',\n",
       " 'This',\n",
       " 'shift',\n",
       " 'has',\n",
       " 'the',\n",
       " 'potential',\n",
       " 'to',\n",
       " 'boost',\n",
       " 'efficiency',\n",
       " 'and',\n",
       " 'productivity',\n",
       " 'across',\n",
       " 'industries',\n",
       " ',',\n",
       " 'from',\n",
       " 'manufacturing',\n",
       " 'and',\n",
       " 'healthcare',\n",
       " 'to',\n",
       " 'finance',\n",
       " 'and',\n",
       " 'customer',\n",
       " 'service',\n",
       " '.',\n",
       " 'Machine',\n",
       " 'learning',\n",
       " ',',\n",
       " 'a',\n",
       " 'subset',\n",
       " 'of',\n",
       " 'AI',\n",
       " ',',\n",
       " 'plays',\n",
       " 'a',\n",
       " 'pivotal',\n",
       " 'role',\n",
       " 'in',\n",
       " 'enabling',\n",
       " 'systems',\n",
       " 'to',\n",
       " 'learn',\n",
       " 'and',\n",
       " 'improve',\n",
       " 'from',\n",
       " 'experience',\n",
       " 'without',\n",
       " 'being',\n",
       " 'explicitly',\n",
       " 'programmed',\n",
       " '.',\n",
       " 'This',\n",
       " 'capability',\n",
       " 'is',\n",
       " 'evident',\n",
       " 'in',\n",
       " 'applications',\n",
       " 'like',\n",
       " 'recommendation',\n",
       " 'systems',\n",
       " ',',\n",
       " 'natural',\n",
       " 'language',\n",
       " 'processing',\n",
       " ',',\n",
       " 'and',\n",
       " 'image',\n",
       " 'recognition',\n",
       " '.',\n",
       " 'The',\n",
       " 'ability',\n",
       " 'of',\n",
       " 'AI',\n",
       " 'to',\n",
       " 'analyze',\n",
       " 'vast',\n",
       " 'amounts',\n",
       " 'of',\n",
       " 'data',\n",
       " 'and',\n",
       " 'identify',\n",
       " 'patterns',\n",
       " 'leads',\n",
       " 'to',\n",
       " 'more',\n",
       " 'informed',\n",
       " 'decision-making',\n",
       " 'processes',\n",
       " '.',\n",
       " 'In',\n",
       " 'healthcare',\n",
       " ',',\n",
       " 'AI',\n",
       " 'is',\n",
       " 'revolutionizing',\n",
       " 'diagnostics',\n",
       " 'and',\n",
       " 'treatment',\n",
       " 'plans',\n",
       " '.',\n",
       " 'Algorithms',\n",
       " 'can',\n",
       " 'analyze',\n",
       " 'medical',\n",
       " 'images',\n",
       " ',',\n",
       " 'detect',\n",
       " 'anomalies',\n",
       " ',',\n",
       " 'and',\n",
       " 'predict',\n",
       " 'diseases',\n",
       " 'with',\n",
       " 'a',\n",
       " 'level',\n",
       " 'of',\n",
       " 'accuracy',\n",
       " 'that',\n",
       " 'was',\n",
       " 'previously',\n",
       " 'unimaginable',\n",
       " '.',\n",
       " 'This',\n",
       " 'not',\n",
       " 'only',\n",
       " 'enhances',\n",
       " 'the',\n",
       " 'speed',\n",
       " 'of',\n",
       " 'diagnosis',\n",
       " 'but',\n",
       " 'also',\n",
       " 'opens',\n",
       " 'avenues',\n",
       " 'for',\n",
       " 'personalized',\n",
       " 'and',\n",
       " 'targeted',\n",
       " 'therapies',\n",
       " '.',\n",
       " 'Ethical',\n",
       " 'considerations',\n",
       " 'surrounding',\n",
       " 'AI',\n",
       " 'are',\n",
       " 'garnering',\n",
       " 'increased',\n",
       " 'attention',\n",
       " '.',\n",
       " 'Questions',\n",
       " 'about',\n",
       " 'bias',\n",
       " 'in',\n",
       " 'algorithms',\n",
       " ',',\n",
       " 'data',\n",
       " 'privacy',\n",
       " ',',\n",
       " 'and',\n",
       " 'the',\n",
       " 'potential',\n",
       " 'impact',\n",
       " 'on',\n",
       " 'employment',\n",
       " 'are',\n",
       " 'subjects',\n",
       " 'of',\n",
       " 'ongoing',\n",
       " 'debate',\n",
       " '.',\n",
       " 'Striking',\n",
       " 'a',\n",
       " 'balance',\n",
       " 'between',\n",
       " 'technological',\n",
       " 'advancement',\n",
       " 'and',\n",
       " 'ethical',\n",
       " 'responsibility',\n",
       " 'is',\n",
       " 'crucial',\n",
       " 'to',\n",
       " 'ensuring',\n",
       " 'that',\n",
       " 'AI',\n",
       " 'benefits',\n",
       " 'humanity',\n",
       " 'as',\n",
       " 'a',\n",
       " 'whole',\n",
       " '.',\n",
       " 'The',\n",
       " 'development',\n",
       " 'of',\n",
       " 'AI',\n",
       " 'also',\n",
       " 'brings',\n",
       " 'challenges',\n",
       " 'related',\n",
       " 'to',\n",
       " 'transparency',\n",
       " 'and',\n",
       " 'explainability',\n",
       " '.',\n",
       " 'As',\n",
       " 'AI',\n",
       " 'systems',\n",
       " 'become',\n",
       " 'more',\n",
       " 'complex',\n",
       " ',',\n",
       " 'understanding',\n",
       " 'their',\n",
       " 'decision-making',\n",
       " 'processes',\n",
       " 'becomes',\n",
       " 'increasingly',\n",
       " 'difficult',\n",
       " '.',\n",
       " 'Efforts',\n",
       " 'to',\n",
       " 'create',\n",
       " 'transparent',\n",
       " 'and',\n",
       " 'interpretable',\n",
       " 'AI',\n",
       " 'systems',\n",
       " 'are',\n",
       " 'essential',\n",
       " 'to',\n",
       " 'building',\n",
       " 'trust',\n",
       " 'and',\n",
       " 'addressing',\n",
       " 'concerns',\n",
       " 'about',\n",
       " 'accountability',\n",
       " '.',\n",
       " 'Looking',\n",
       " 'ahead',\n",
       " ',',\n",
       " 'the',\n",
       " 'evolution',\n",
       " 'of',\n",
       " 'AI',\n",
       " 'is',\n",
       " 'expected',\n",
       " 'to',\n",
       " 'continue',\n",
       " 'at',\n",
       " 'a',\n",
       " 'rapid',\n",
       " 'pace',\n",
       " '.',\n",
       " 'Innovations',\n",
       " 'in',\n",
       " 'areas',\n",
       " 'like',\n",
       " 'reinforcement',\n",
       " 'learning',\n",
       " ',',\n",
       " 'quantum',\n",
       " 'computing',\n",
       " ',',\n",
       " 'and',\n",
       " 'explainable',\n",
       " 'AI',\n",
       " 'promise',\n",
       " 'to',\n",
       " 'push',\n",
       " 'the',\n",
       " 'boundaries',\n",
       " 'of',\n",
       " 'what',\n",
       " 'AI',\n",
       " 'systems',\n",
       " 'can',\n",
       " 'achieve',\n",
       " '.',\n",
       " 'While',\n",
       " 'the',\n",
       " 'potential',\n",
       " 'benefits',\n",
       " 'are',\n",
       " 'vast',\n",
       " ',',\n",
       " 'it',\n",
       " 'is',\n",
       " 'essential',\n",
       " 'for',\n",
       " 'society',\n",
       " 'to',\n",
       " 'navigate',\n",
       " 'the',\n",
       " 'ethical',\n",
       " ',',\n",
       " 'social',\n",
       " ',',\n",
       " 'and',\n",
       " 'economic',\n",
       " 'implications',\n",
       " 'of',\n",
       " 'AI',\n",
       " 'to',\n",
       " 'harness',\n",
       " 'its',\n",
       " 'power',\n",
       " 'responsibly',\n",
       " 'and',\n",
       " 'inclusively',\n",
       " '.']"
      ]
     },
     "execution_count": 22,
     "metadata": {},
     "output_type": "execute_result"
    }
   ],
   "source": [
    "tt"
   ]
  },
  {
   "cell_type": "code",
   "execution_count": 23,
   "id": "ae9b3472",
   "metadata": {},
   "outputs": [],
   "source": [
    "g=blankline_tokenize(ai_description)"
   ]
  },
  {
   "cell_type": "code",
   "execution_count": 24,
   "id": "84a7f59f",
   "metadata": {},
   "outputs": [
    {
     "data": {
      "text/plain": [
       "7"
      ]
     },
     "execution_count": 24,
     "metadata": {},
     "output_type": "execute_result"
    }
   ],
   "source": [
    "g\n",
    "len(g)"
   ]
  },
  {
   "cell_type": "code",
   "execution_count": 25,
   "id": "0078ede9",
   "metadata": {},
   "outputs": [
    {
     "data": {
      "text/plain": [
       "'Machine learning, a subset of AI, plays a pivotal role in enabling systems to learn and improve from experience without being explicitly programmed. This capability is evident in applications like recommendation systems, natural language processing, and image recognition. The ability of AI to analyze vast amounts of data and identify patterns leads to more informed decision-making processes.'"
      ]
     },
     "execution_count": 25,
     "metadata": {},
     "output_type": "execute_result"
    }
   ],
   "source": [
    "g[2]\n",
    "\n"
   ]
  },
  {
   "cell_type": "code",
   "execution_count": 26,
   "id": "fde5d491",
   "metadata": {},
   "outputs": [],
   "source": [
    "from nltk.util import bigrams,trigrams,ngrams"
   ]
  },
  {
   "cell_type": "code",
   "execution_count": 27,
   "id": "52518ae5",
   "metadata": {},
   "outputs": [
    {
     "name": "stdout",
     "output_type": "stream",
     "text": [
      "\n",
      "Artificial Intelligence (AI) has emerged as a transformative force, reshaping the landscape of various industries and influencing the way we live, work, and interact with technology. AI refers to the development of computer systems capable of performing tasks that typically require human intelligence, such as learning, reasoning, problem-solving, perception, and language understanding. As AI continues to advance, its impact on society becomes increasingly profound.\n",
      "\n",
      "\n"
     ]
    }
   ],
   "source": [
    "string = \"\"\"\n",
    "Artificial Intelligence (AI) has emerged as a transformative force, reshaping the landscape of various industries and influencing the way we live, work, and interact with technology. AI refers to the development of computer systems capable of performing tasks that typically require human intelligence, such as learning, reasoning, problem-solving, perception, and language understanding. As AI continues to advance, its impact on society becomes increasingly profound.\n",
    "\n",
    "\"\"\"\n",
    "\n",
    "# Print the string\n",
    "print(string )"
   ]
  },
  {
   "cell_type": "code",
   "execution_count": 28,
   "id": "87c25393",
   "metadata": {},
   "outputs": [
    {
     "data": {
      "text/plain": [
       "['Artificial',\n",
       " 'Intelligence',\n",
       " '(',\n",
       " 'AI',\n",
       " ')',\n",
       " 'has',\n",
       " 'emerged',\n",
       " 'as',\n",
       " 'a',\n",
       " 'transformative',\n",
       " 'force',\n",
       " ',',\n",
       " 'reshaping',\n",
       " 'the',\n",
       " 'landscape',\n",
       " 'of',\n",
       " 'various',\n",
       " 'industries',\n",
       " 'and',\n",
       " 'influencing',\n",
       " 'the',\n",
       " 'way',\n",
       " 'we',\n",
       " 'live',\n",
       " ',',\n",
       " 'work',\n",
       " ',',\n",
       " 'and',\n",
       " 'interact',\n",
       " 'with',\n",
       " 'technology',\n",
       " '.',\n",
       " 'AI',\n",
       " 'refers',\n",
       " 'to',\n",
       " 'the',\n",
       " 'development',\n",
       " 'of',\n",
       " 'computer',\n",
       " 'systems',\n",
       " 'capable',\n",
       " 'of',\n",
       " 'performing',\n",
       " 'tasks',\n",
       " 'that',\n",
       " 'typically',\n",
       " 'require',\n",
       " 'human',\n",
       " 'intelligence',\n",
       " ',',\n",
       " 'such',\n",
       " 'as',\n",
       " 'learning',\n",
       " ',',\n",
       " 'reasoning',\n",
       " ',',\n",
       " 'problem-solving',\n",
       " ',',\n",
       " 'perception',\n",
       " ',',\n",
       " 'and',\n",
       " 'language',\n",
       " 'understanding',\n",
       " '.',\n",
       " 'As',\n",
       " 'AI',\n",
       " 'continues',\n",
       " 'to',\n",
       " 'advance',\n",
       " ',',\n",
       " 'its',\n",
       " 'impact',\n",
       " 'on',\n",
       " 'society',\n",
       " 'becomes',\n",
       " 'increasingly',\n",
       " 'profound',\n",
       " '.']"
      ]
     },
     "execution_count": 28,
     "metadata": {},
     "output_type": "execute_result"
    }
   ],
   "source": [
    "\n",
    "\n",
    "strr= word_tokenize(string)\n",
    "strr"
   ]
  },
  {
   "cell_type": "code",
   "execution_count": 29,
   "id": "ca36d139",
   "metadata": {},
   "outputs": [
    {
     "data": {
      "text/plain": [
       "[('Artificial', 'Intelligence'),\n",
       " ('Intelligence', '('),\n",
       " ('(', 'AI'),\n",
       " ('AI', ')'),\n",
       " (')', 'has'),\n",
       " ('has', 'emerged'),\n",
       " ('emerged', 'as'),\n",
       " ('as', 'a'),\n",
       " ('a', 'transformative'),\n",
       " ('transformative', 'force'),\n",
       " ('force', ','),\n",
       " (',', 'reshaping'),\n",
       " ('reshaping', 'the'),\n",
       " ('the', 'landscape'),\n",
       " ('landscape', 'of'),\n",
       " ('of', 'various'),\n",
       " ('various', 'industries'),\n",
       " ('industries', 'and'),\n",
       " ('and', 'influencing'),\n",
       " ('influencing', 'the'),\n",
       " ('the', 'way'),\n",
       " ('way', 'we'),\n",
       " ('we', 'live'),\n",
       " ('live', ','),\n",
       " (',', 'work'),\n",
       " ('work', ','),\n",
       " (',', 'and'),\n",
       " ('and', 'interact'),\n",
       " ('interact', 'with'),\n",
       " ('with', 'technology'),\n",
       " ('technology', '.'),\n",
       " ('.', 'AI'),\n",
       " ('AI', 'refers'),\n",
       " ('refers', 'to'),\n",
       " ('to', 'the'),\n",
       " ('the', 'development'),\n",
       " ('development', 'of'),\n",
       " ('of', 'computer'),\n",
       " ('computer', 'systems'),\n",
       " ('systems', 'capable'),\n",
       " ('capable', 'of'),\n",
       " ('of', 'performing'),\n",
       " ('performing', 'tasks'),\n",
       " ('tasks', 'that'),\n",
       " ('that', 'typically'),\n",
       " ('typically', 'require'),\n",
       " ('require', 'human'),\n",
       " ('human', 'intelligence'),\n",
       " ('intelligence', ','),\n",
       " (',', 'such'),\n",
       " ('such', 'as'),\n",
       " ('as', 'learning'),\n",
       " ('learning', ','),\n",
       " (',', 'reasoning'),\n",
       " ('reasoning', ','),\n",
       " (',', 'problem-solving'),\n",
       " ('problem-solving', ','),\n",
       " (',', 'perception'),\n",
       " ('perception', ','),\n",
       " (',', 'and'),\n",
       " ('and', 'language'),\n",
       " ('language', 'understanding'),\n",
       " ('understanding', '.'),\n",
       " ('.', 'As'),\n",
       " ('As', 'AI'),\n",
       " ('AI', 'continues'),\n",
       " ('continues', 'to'),\n",
       " ('to', 'advance'),\n",
       " ('advance', ','),\n",
       " (',', 'its'),\n",
       " ('its', 'impact'),\n",
       " ('impact', 'on'),\n",
       " ('on', 'society'),\n",
       " ('society', 'becomes'),\n",
       " ('becomes', 'increasingly'),\n",
       " ('increasingly', 'profound'),\n",
       " ('profound', '.')]"
      ]
     },
     "execution_count": 29,
     "metadata": {},
     "output_type": "execute_result"
    }
   ],
   "source": [
    "sb=list(nltk.bigrams(strr))\n",
    "sb"
   ]
  },
  {
   "cell_type": "code",
   "execution_count": 30,
   "id": "c64e594f",
   "metadata": {},
   "outputs": [
    {
     "data": {
      "text/plain": [
       "[('Artificial', 'Intelligence', '('),\n",
       " ('Intelligence', '(', 'AI'),\n",
       " ('(', 'AI', ')'),\n",
       " ('AI', ')', 'has'),\n",
       " (')', 'has', 'emerged'),\n",
       " ('has', 'emerged', 'as'),\n",
       " ('emerged', 'as', 'a'),\n",
       " ('as', 'a', 'transformative'),\n",
       " ('a', 'transformative', 'force'),\n",
       " ('transformative', 'force', ','),\n",
       " ('force', ',', 'reshaping'),\n",
       " (',', 'reshaping', 'the'),\n",
       " ('reshaping', 'the', 'landscape'),\n",
       " ('the', 'landscape', 'of'),\n",
       " ('landscape', 'of', 'various'),\n",
       " ('of', 'various', 'industries'),\n",
       " ('various', 'industries', 'and'),\n",
       " ('industries', 'and', 'influencing'),\n",
       " ('and', 'influencing', 'the'),\n",
       " ('influencing', 'the', 'way'),\n",
       " ('the', 'way', 'we'),\n",
       " ('way', 'we', 'live'),\n",
       " ('we', 'live', ','),\n",
       " ('live', ',', 'work'),\n",
       " (',', 'work', ','),\n",
       " ('work', ',', 'and'),\n",
       " (',', 'and', 'interact'),\n",
       " ('and', 'interact', 'with'),\n",
       " ('interact', 'with', 'technology'),\n",
       " ('with', 'technology', '.'),\n",
       " ('technology', '.', 'AI'),\n",
       " ('.', 'AI', 'refers'),\n",
       " ('AI', 'refers', 'to'),\n",
       " ('refers', 'to', 'the'),\n",
       " ('to', 'the', 'development'),\n",
       " ('the', 'development', 'of'),\n",
       " ('development', 'of', 'computer'),\n",
       " ('of', 'computer', 'systems'),\n",
       " ('computer', 'systems', 'capable'),\n",
       " ('systems', 'capable', 'of'),\n",
       " ('capable', 'of', 'performing'),\n",
       " ('of', 'performing', 'tasks'),\n",
       " ('performing', 'tasks', 'that'),\n",
       " ('tasks', 'that', 'typically'),\n",
       " ('that', 'typically', 'require'),\n",
       " ('typically', 'require', 'human'),\n",
       " ('require', 'human', 'intelligence'),\n",
       " ('human', 'intelligence', ','),\n",
       " ('intelligence', ',', 'such'),\n",
       " (',', 'such', 'as'),\n",
       " ('such', 'as', 'learning'),\n",
       " ('as', 'learning', ','),\n",
       " ('learning', ',', 'reasoning'),\n",
       " (',', 'reasoning', ','),\n",
       " ('reasoning', ',', 'problem-solving'),\n",
       " (',', 'problem-solving', ','),\n",
       " ('problem-solving', ',', 'perception'),\n",
       " (',', 'perception', ','),\n",
       " ('perception', ',', 'and'),\n",
       " (',', 'and', 'language'),\n",
       " ('and', 'language', 'understanding'),\n",
       " ('language', 'understanding', '.'),\n",
       " ('understanding', '.', 'As'),\n",
       " ('.', 'As', 'AI'),\n",
       " ('As', 'AI', 'continues'),\n",
       " ('AI', 'continues', 'to'),\n",
       " ('continues', 'to', 'advance'),\n",
       " ('to', 'advance', ','),\n",
       " ('advance', ',', 'its'),\n",
       " (',', 'its', 'impact'),\n",
       " ('its', 'impact', 'on'),\n",
       " ('impact', 'on', 'society'),\n",
       " ('on', 'society', 'becomes'),\n",
       " ('society', 'becomes', 'increasingly'),\n",
       " ('becomes', 'increasingly', 'profound'),\n",
       " ('increasingly', 'profound', '.')]"
      ]
     },
     "execution_count": 30,
     "metadata": {},
     "output_type": "execute_result"
    }
   ],
   "source": [
    "sb1=list(nltk.trigrams(strr))\n",
    "sb1"
   ]
  },
  {
   "cell_type": "code",
   "execution_count": 31,
   "id": "a1fa2042",
   "metadata": {},
   "outputs": [
    {
     "data": {
      "text/plain": [
       "[('Artificial', 'Intelligence', '(', 'AI', ')'),\n",
       " ('Intelligence', '(', 'AI', ')', 'has'),\n",
       " ('(', 'AI', ')', 'has', 'emerged'),\n",
       " ('AI', ')', 'has', 'emerged', 'as'),\n",
       " (')', 'has', 'emerged', 'as', 'a'),\n",
       " ('has', 'emerged', 'as', 'a', 'transformative'),\n",
       " ('emerged', 'as', 'a', 'transformative', 'force'),\n",
       " ('as', 'a', 'transformative', 'force', ','),\n",
       " ('a', 'transformative', 'force', ',', 'reshaping'),\n",
       " ('transformative', 'force', ',', 'reshaping', 'the'),\n",
       " ('force', ',', 'reshaping', 'the', 'landscape'),\n",
       " (',', 'reshaping', 'the', 'landscape', 'of'),\n",
       " ('reshaping', 'the', 'landscape', 'of', 'various'),\n",
       " ('the', 'landscape', 'of', 'various', 'industries'),\n",
       " ('landscape', 'of', 'various', 'industries', 'and'),\n",
       " ('of', 'various', 'industries', 'and', 'influencing'),\n",
       " ('various', 'industries', 'and', 'influencing', 'the'),\n",
       " ('industries', 'and', 'influencing', 'the', 'way'),\n",
       " ('and', 'influencing', 'the', 'way', 'we'),\n",
       " ('influencing', 'the', 'way', 'we', 'live'),\n",
       " ('the', 'way', 'we', 'live', ','),\n",
       " ('way', 'we', 'live', ',', 'work'),\n",
       " ('we', 'live', ',', 'work', ','),\n",
       " ('live', ',', 'work', ',', 'and'),\n",
       " (',', 'work', ',', 'and', 'interact'),\n",
       " ('work', ',', 'and', 'interact', 'with'),\n",
       " (',', 'and', 'interact', 'with', 'technology'),\n",
       " ('and', 'interact', 'with', 'technology', '.'),\n",
       " ('interact', 'with', 'technology', '.', 'AI'),\n",
       " ('with', 'technology', '.', 'AI', 'refers'),\n",
       " ('technology', '.', 'AI', 'refers', 'to'),\n",
       " ('.', 'AI', 'refers', 'to', 'the'),\n",
       " ('AI', 'refers', 'to', 'the', 'development'),\n",
       " ('refers', 'to', 'the', 'development', 'of'),\n",
       " ('to', 'the', 'development', 'of', 'computer'),\n",
       " ('the', 'development', 'of', 'computer', 'systems'),\n",
       " ('development', 'of', 'computer', 'systems', 'capable'),\n",
       " ('of', 'computer', 'systems', 'capable', 'of'),\n",
       " ('computer', 'systems', 'capable', 'of', 'performing'),\n",
       " ('systems', 'capable', 'of', 'performing', 'tasks'),\n",
       " ('capable', 'of', 'performing', 'tasks', 'that'),\n",
       " ('of', 'performing', 'tasks', 'that', 'typically'),\n",
       " ('performing', 'tasks', 'that', 'typically', 'require'),\n",
       " ('tasks', 'that', 'typically', 'require', 'human'),\n",
       " ('that', 'typically', 'require', 'human', 'intelligence'),\n",
       " ('typically', 'require', 'human', 'intelligence', ','),\n",
       " ('require', 'human', 'intelligence', ',', 'such'),\n",
       " ('human', 'intelligence', ',', 'such', 'as'),\n",
       " ('intelligence', ',', 'such', 'as', 'learning'),\n",
       " (',', 'such', 'as', 'learning', ','),\n",
       " ('such', 'as', 'learning', ',', 'reasoning'),\n",
       " ('as', 'learning', ',', 'reasoning', ','),\n",
       " ('learning', ',', 'reasoning', ',', 'problem-solving'),\n",
       " (',', 'reasoning', ',', 'problem-solving', ','),\n",
       " ('reasoning', ',', 'problem-solving', ',', 'perception'),\n",
       " (',', 'problem-solving', ',', 'perception', ','),\n",
       " ('problem-solving', ',', 'perception', ',', 'and'),\n",
       " (',', 'perception', ',', 'and', 'language'),\n",
       " ('perception', ',', 'and', 'language', 'understanding'),\n",
       " (',', 'and', 'language', 'understanding', '.'),\n",
       " ('and', 'language', 'understanding', '.', 'As'),\n",
       " ('language', 'understanding', '.', 'As', 'AI'),\n",
       " ('understanding', '.', 'As', 'AI', 'continues'),\n",
       " ('.', 'As', 'AI', 'continues', 'to'),\n",
       " ('As', 'AI', 'continues', 'to', 'advance'),\n",
       " ('AI', 'continues', 'to', 'advance', ','),\n",
       " ('continues', 'to', 'advance', ',', 'its'),\n",
       " ('to', 'advance', ',', 'its', 'impact'),\n",
       " ('advance', ',', 'its', 'impact', 'on'),\n",
       " (',', 'its', 'impact', 'on', 'society'),\n",
       " ('its', 'impact', 'on', 'society', 'becomes'),\n",
       " ('impact', 'on', 'society', 'becomes', 'increasingly'),\n",
       " ('on', 'society', 'becomes', 'increasingly', 'profound'),\n",
       " ('society', 'becomes', 'increasingly', 'profound', '.')]"
      ]
     },
     "execution_count": 31,
     "metadata": {},
     "output_type": "execute_result"
    }
   ],
   "source": [
    "sb2=list(nltk.ngrams(strr,5))\n",
    "sb2"
   ]
  },
  {
   "cell_type": "code",
   "execution_count": 33,
   "id": "cf7bfb8b",
   "metadata": {},
   "outputs": [],
   "source": [
    "from nltk.stem import PorterStemmer\n",
    "pst=PorterStemmer()\n"
   ]
  },
  {
   "cell_type": "code",
   "execution_count": 35,
   "id": "4f9d1955",
   "metadata": {},
   "outputs": [
    {
     "data": {
      "text/plain": [
       "'have'"
      ]
     },
     "execution_count": 35,
     "metadata": {},
     "output_type": "execute_result"
    }
   ],
   "source": [
    "pst.stem(\"having\")"
   ]
  },
  {
   "cell_type": "code",
   "execution_count": 36,
   "id": "d676cb76",
   "metadata": {},
   "outputs": [],
   "source": [
    "from nltk.stem import LancasterStemmer\n",
    "lst=LancasterStemmer()\n"
   ]
  },
  {
   "cell_type": "code",
   "execution_count": 40,
   "id": "2ee621d6",
   "metadata": {},
   "outputs": [
    {
     "data": {
      "text/plain": [
       "'go'"
      ]
     },
     "execution_count": 40,
     "metadata": {},
     "output_type": "execute_result"
    }
   ],
   "source": [
    "pst.stem(\"going\")"
   ]
  },
  {
   "cell_type": "code",
   "execution_count": 41,
   "id": "b081fced",
   "metadata": {},
   "outputs": [],
   "source": [
    "from nltk.stem import wordnet\n",
    "from nltk.stem import WordNetLemmatizer\n",
    "word_lem=WordNetLemmatizer()\n",
    "\n"
   ]
  },
  {
   "cell_type": "code",
   "execution_count": 43,
   "id": "5123c4d3",
   "metadata": {},
   "outputs": [
    {
     "name": "stderr",
     "output_type": "stream",
     "text": [
      "[nltk_data] Downloading package wordnet to C:\\Users\\ctewa/nltk_data...\n"
     ]
    },
    {
     "data": {
      "text/plain": [
       "True"
      ]
     },
     "execution_count": 43,
     "metadata": {},
     "output_type": "execute_result"
    }
   ],
   "source": [
    "import nltk\n",
    "nltk.download('wordnet')"
   ]
  },
  {
   "cell_type": "code",
   "execution_count": 45,
   "id": "ffdd247d",
   "metadata": {},
   "outputs": [
    {
     "data": {
      "text/plain": [
       "'corpus'"
      ]
     },
     "execution_count": 45,
     "metadata": {},
     "output_type": "execute_result"
    }
   ],
   "source": [
    "word_lem.lemmatize(\"corpora\")"
   ]
  },
  {
   "cell_type": "code",
   "execution_count": 47,
   "id": "ad511d49",
   "metadata": {},
   "outputs": [],
   "source": [
    "from nltk.corpus import stopwords"
   ]
  },
  {
   "cell_type": "code",
   "execution_count": 49,
   "id": "f90c1858",
   "metadata": {},
   "outputs": [
    {
     "name": "stderr",
     "output_type": "stream",
     "text": [
      "[nltk_data] Downloading package stopwords to\n",
      "[nltk_data]     C:\\Users\\ctewa/nltk_data...\n",
      "[nltk_data]   Unzipping corpora\\stopwords.zip.\n"
     ]
    },
    {
     "data": {
      "text/plain": [
       "True"
      ]
     },
     "execution_count": 49,
     "metadata": {},
     "output_type": "execute_result"
    }
   ],
   "source": [
    "import nltk\n",
    "nltk.download('stopwords')"
   ]
  },
  {
   "cell_type": "code",
   "execution_count": 50,
   "id": "89077585",
   "metadata": {},
   "outputs": [
    {
     "data": {
      "text/plain": [
       "['i',\n",
       " 'me',\n",
       " 'my',\n",
       " 'myself',\n",
       " 'we',\n",
       " 'our',\n",
       " 'ours',\n",
       " 'ourselves',\n",
       " 'you',\n",
       " \"you're\",\n",
       " \"you've\",\n",
       " \"you'll\",\n",
       " \"you'd\",\n",
       " 'your',\n",
       " 'yours',\n",
       " 'yourself',\n",
       " 'yourselves',\n",
       " 'he',\n",
       " 'him',\n",
       " 'his',\n",
       " 'himself',\n",
       " 'she',\n",
       " \"she's\",\n",
       " 'her',\n",
       " 'hers',\n",
       " 'herself',\n",
       " 'it',\n",
       " \"it's\",\n",
       " 'its',\n",
       " 'itself',\n",
       " 'they',\n",
       " 'them',\n",
       " 'their',\n",
       " 'theirs',\n",
       " 'themselves',\n",
       " 'what',\n",
       " 'which',\n",
       " 'who',\n",
       " 'whom',\n",
       " 'this',\n",
       " 'that',\n",
       " \"that'll\",\n",
       " 'these',\n",
       " 'those',\n",
       " 'am',\n",
       " 'is',\n",
       " 'are',\n",
       " 'was',\n",
       " 'were',\n",
       " 'be',\n",
       " 'been',\n",
       " 'being',\n",
       " 'have',\n",
       " 'has',\n",
       " 'had',\n",
       " 'having',\n",
       " 'do',\n",
       " 'does',\n",
       " 'did',\n",
       " 'doing',\n",
       " 'a',\n",
       " 'an',\n",
       " 'the',\n",
       " 'and',\n",
       " 'but',\n",
       " 'if',\n",
       " 'or',\n",
       " 'because',\n",
       " 'as',\n",
       " 'until',\n",
       " 'while',\n",
       " 'of',\n",
       " 'at',\n",
       " 'by',\n",
       " 'for',\n",
       " 'with',\n",
       " 'about',\n",
       " 'against',\n",
       " 'between',\n",
       " 'into',\n",
       " 'through',\n",
       " 'during',\n",
       " 'before',\n",
       " 'after',\n",
       " 'above',\n",
       " 'below',\n",
       " 'to',\n",
       " 'from',\n",
       " 'up',\n",
       " 'down',\n",
       " 'in',\n",
       " 'out',\n",
       " 'on',\n",
       " 'off',\n",
       " 'over',\n",
       " 'under',\n",
       " 'again',\n",
       " 'further',\n",
       " 'then',\n",
       " 'once',\n",
       " 'here',\n",
       " 'there',\n",
       " 'when',\n",
       " 'where',\n",
       " 'why',\n",
       " 'how',\n",
       " 'all',\n",
       " 'any',\n",
       " 'both',\n",
       " 'each',\n",
       " 'few',\n",
       " 'more',\n",
       " 'most',\n",
       " 'other',\n",
       " 'some',\n",
       " 'such',\n",
       " 'no',\n",
       " 'nor',\n",
       " 'not',\n",
       " 'only',\n",
       " 'own',\n",
       " 'same',\n",
       " 'so',\n",
       " 'than',\n",
       " 'too',\n",
       " 'very',\n",
       " 's',\n",
       " 't',\n",
       " 'can',\n",
       " 'will',\n",
       " 'just',\n",
       " 'don',\n",
       " \"don't\",\n",
       " 'should',\n",
       " \"should've\",\n",
       " 'now',\n",
       " 'd',\n",
       " 'll',\n",
       " 'm',\n",
       " 'o',\n",
       " 're',\n",
       " 've',\n",
       " 'y',\n",
       " 'ain',\n",
       " 'aren',\n",
       " \"aren't\",\n",
       " 'couldn',\n",
       " \"couldn't\",\n",
       " 'didn',\n",
       " \"didn't\",\n",
       " 'doesn',\n",
       " \"doesn't\",\n",
       " 'hadn',\n",
       " \"hadn't\",\n",
       " 'hasn',\n",
       " \"hasn't\",\n",
       " 'haven',\n",
       " \"haven't\",\n",
       " 'isn',\n",
       " \"isn't\",\n",
       " 'ma',\n",
       " 'mightn',\n",
       " \"mightn't\",\n",
       " 'mustn',\n",
       " \"mustn't\",\n",
       " 'needn',\n",
       " \"needn't\",\n",
       " 'shan',\n",
       " \"shan't\",\n",
       " 'shouldn',\n",
       " \"shouldn't\",\n",
       " 'wasn',\n",
       " \"wasn't\",\n",
       " 'weren',\n",
       " \"weren't\",\n",
       " 'won',\n",
       " \"won't\",\n",
       " 'wouldn',\n",
       " \"wouldn't\"]"
      ]
     },
     "execution_count": 50,
     "metadata": {},
     "output_type": "execute_result"
    }
   ],
   "source": [
    "stopwords.words(\"english\")"
   ]
  },
  {
   "cell_type": "code",
   "execution_count": 51,
   "id": "2a8bb7df",
   "metadata": {},
   "outputs": [
    {
     "data": {
      "text/plain": [
       "179"
      ]
     },
     "execution_count": 51,
     "metadata": {},
     "output_type": "execute_result"
    }
   ],
   "source": [
    "len(stopwords.words(\"english\"))"
   ]
  },
  {
   "cell_type": "code",
   "execution_count": 53,
   "id": "0d5bc130",
   "metadata": {},
   "outputs": [],
   "source": [
    "sent= \"tewabe is Aphd studnet at the university of Verona\"\n",
    "setq=word_tokenize(sent)"
   ]
  },
  {
   "cell_type": "code",
   "execution_count": 55,
   "id": "d0aa8d62",
   "metadata": {},
   "outputs": [
    {
     "name": "stdout",
     "output_type": "stream",
     "text": [
      "[('tewabe', 'NN')]\n",
      "[('is', 'VBZ')]\n",
      "[('Aphd', 'NN')]\n",
      "[('studnet', 'NN')]\n",
      "[('at', 'IN')]\n",
      "[('the', 'DT')]\n",
      "[('university', 'NN')]\n",
      "[('of', 'IN')]\n",
      "[('Verona', 'NN')]\n"
     ]
    }
   ],
   "source": [
    "for token in setq:\n",
    "    print(nltk.pos_tag([token]))"
   ]
  },
  {
   "cell_type": "code",
   "execution_count": 56,
   "id": "3bc3fb84",
   "metadata": {},
   "outputs": [],
   "source": [
    "from nltk import ne_chunk\n",
    "sent1= \"tewabe is Aphd studnet at the university of Verona\""
   ]
  },
  {
   "cell_type": "code",
   "execution_count": 58,
   "id": "d270f80a",
   "metadata": {},
   "outputs": [],
   "source": [
    "setqq=word_tokenize(sent1)\n",
    "d=nltk.pos_tag(setqq)"
   ]
  },
  {
   "cell_type": "code",
   "execution_count": 60,
   "id": "d4d5cc53",
   "metadata": {},
   "outputs": [
    {
     "name": "stderr",
     "output_type": "stream",
     "text": [
      "[nltk_data] Downloading package maxent_ne_chunker to\n",
      "[nltk_data]     C:\\Users\\ctewa/nltk_data...\n",
      "[nltk_data]   Unzipping chunkers\\maxent_ne_chunker.zip.\n"
     ]
    },
    {
     "data": {
      "text/plain": [
       "True"
      ]
     },
     "execution_count": 60,
     "metadata": {},
     "output_type": "execute_result"
    }
   ],
   "source": [
    "import nltk\n",
    "nltk.download('maxent_ne_chunker')"
   ]
  },
  {
   "cell_type": "code",
   "execution_count": 62,
   "id": "1326730a",
   "metadata": {},
   "outputs": [
    {
     "name": "stderr",
     "output_type": "stream",
     "text": [
      "[nltk_data] Downloading package words to C:\\Users\\ctewa/nltk_data...\n",
      "[nltk_data]   Unzipping corpora\\words.zip.\n"
     ]
    },
    {
     "data": {
      "text/plain": [
       "True"
      ]
     },
     "execution_count": 62,
     "metadata": {},
     "output_type": "execute_result"
    }
   ],
   "source": [
    "import nltk\n",
    "nltk.download('words')"
   ]
  },
  {
   "cell_type": "code",
   "execution_count": 64,
   "id": "a430de60",
   "metadata": {},
   "outputs": [
    {
     "name": "stdout",
     "output_type": "stream",
     "text": [
      "(S\n",
      "  tewabe/NN\n",
      "  is/VBZ\n",
      "  Aphd/JJ\n",
      "  studnet/NN\n",
      "  at/IN\n",
      "  the/DT\n",
      "  university/NN\n",
      "  of/IN\n",
      "  (GPE Verona/NNP))\n"
     ]
    }
   ],
   "source": [
    "dd= ne_chunk(d)\n",
    "print(dd)"
   ]
  },
  {
   "cell_type": "code",
   "execution_count": null,
   "id": "b42d969e",
   "metadata": {},
   "outputs": [],
   "source": []
  }
 ],
 "metadata": {
  "kernelspec": {
   "display_name": "Python 3 (ipykernel)",
   "language": "python",
   "name": "python3"
  },
  "language_info": {
   "codemirror_mode": {
    "name": "ipython",
    "version": 3
   },
   "file_extension": ".py",
   "mimetype": "text/x-python",
   "name": "python",
   "nbconvert_exporter": "python",
   "pygments_lexer": "ipython3",
   "version": "3.9.7"
  }
 },
 "nbformat": 4,
 "nbformat_minor": 5
}
